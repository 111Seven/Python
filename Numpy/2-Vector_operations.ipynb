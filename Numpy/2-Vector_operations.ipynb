{
 "cells": [
  {
   "cell_type": "markdown",
   "metadata": {},
   "source": [
    "# Vector Operations\n",
    "In this we will discuss different vector operations like additions, subtractions, dot product, and cross products <br>\n",
    "\n",
    "Before let's define two column vectors $a_1$ and $a_2$ on which we will perform bunch of operations\n",
    "$$ a_1 = \\begin{bmatrix} x_1 \\\\ y_1 \\end{bmatrix} $$ $$ \\\\b_1 = \\begin{bmatrix} x_2 \\\\ y_2 \\end{bmatrix} $$"
   ]
  },
  {
   "cell_type": "code",
   "execution_count": 1,
   "metadata": {},
   "outputs": [],
   "source": [
    "#import numpy module\n",
    "import numpy as np"
   ]
  },
  {
   "cell_type": "code",
   "execution_count": 2,
   "metadata": {},
   "outputs": [
    {
     "data": {
      "text/plain": [
       "array([[1],\n",
       "       [2]])"
      ]
     },
     "execution_count": 2,
     "metadata": {},
     "output_type": "execute_result"
    }
   ],
   "source": [
    "#now lets see an example\n",
    "a_1 = [[1],[2]]\n",
    "a_1 = np.array(a_1)\n",
    "a_1 = a_1.reshape((2,1))\n",
    "a_1"
   ]
  },
  {
   "cell_type": "code",
   "execution_count": 3,
   "metadata": {},
   "outputs": [
    {
     "data": {
      "text/plain": [
       "array([[3],\n",
       "       [4]])"
      ]
     },
     "execution_count": 3,
     "metadata": {},
     "output_type": "execute_result"
    }
   ],
   "source": [
    "a_2 = [[3],[4]]\n",
    "a_2 = np.array(a_2)\n",
    "a_2 = a_2.reshape((2,1))\n",
    "a_2"
   ]
  },
  {
   "cell_type": "markdown",
   "metadata": {},
   "source": [
    "## Addition\n",
    "Now the addition of two vectors $$ a = a_1 + a_2 $$ which can be written as $$ a = \\begin{bmatrix} x_1 \\\\ y_1 \\end{bmatrix} + \\begin{bmatrix} x_2 \\\\ y_2 \\end{bmatrix} $$ which can be further evaluated as $$ a = \\begin{bmatrix} x_1 + x_2 \\\\ y_1 + y_2 \\end{bmatrix} $$"
   ]
  },
  {
   "cell_type": "code",
   "execution_count": 4,
   "metadata": {},
   "outputs": [
    {
     "data": {
      "text/plain": [
       "array([[4],\n",
       "       [6]])"
      ]
     },
     "execution_count": 4,
     "metadata": {},
     "output_type": "execute_result"
    }
   ],
   "source": [
    "# Now in case of numpy arrays \n",
    "# addition is done by simply adding the two vectors \n",
    "a = a_1 + a_2\n",
    "a"
   ]
  },
  {
   "cell_type": "markdown",
   "metadata": {},
   "source": [
    "## Subtraction\n",
    "Subtraction is given by the difference between two vectors $$ a = a_1 - a_2 $$ Which can be written as $$ a = \\begin{bmatrix} x_1 \\\\ y_1 \\end{bmatrix} -  \\begin{bmatrix} x_2 \\\\ y_2 \\end{bmatrix} $$ which can be further evaluateed as $$ a = \\begin{bmatrix} x_1 - x_2 \\\\ y_1 - y_2 \\end{bmatrix} $$"
   ]
  },
  {
   "cell_type": "code",
   "execution_count": 5,
   "metadata": {},
   "outputs": [
    {
     "data": {
      "text/plain": [
       "array([[-2],\n",
       "       [-2]])"
      ]
     },
     "execution_count": 5,
     "metadata": {},
     "output_type": "execute_result"
    }
   ],
   "source": [
    "# Now in case of numpy arrays\n",
    "# subtraction is done by simply takeing the difference between as shown in the above equation\n",
    "s = a_1 - a_2\n",
    "s"
   ]
  },
  {
   "cell_type": "markdown",
   "metadata": {},
   "source": [
    "## Element-wise multiplication\n",
    "This is just you are simply multiplying the element by element $$ a = a_1 * a_2 $$ which can be written as $$ a = \\begin{bmatrix} x_1 \\\\ y_1 \\end{bmatrix} * \\begin{bmatrix} x_2 \\\\ y_2 \\end{bmatrix} $$ which can be further evaluated as $$ a = \\begin{bmatrix} x_1* x_2 \\\\ y_1*y_2 \\end{bmatrix} $$"
   ]
  },
  {
   "cell_type": "code",
   "execution_count": 6,
   "metadata": {},
   "outputs": [
    {
     "data": {
      "text/plain": [
       "array([[3],\n",
       "       [8]])"
      ]
     },
     "execution_count": 6,
     "metadata": {},
     "output_type": "execute_result"
    }
   ],
   "source": [
    "##Now we can do it in multiple ways\n",
    "#without complicating things we can do it in the same way as given in the above expression\n",
    "m = a_1*a_2\n",
    "m"
   ]
  },
  {
   "cell_type": "markdown",
   "metadata": {},
   "source": [
    "## Traspose of vector\n",
    "The traspose of a vector changes in such a way that if it is column vector it becomes row vector and vise versa\n",
    "and it is represented by $a_1^T$ if $$ a_1 = \\begin{bmatrix} x_1 \\\\ x_2 \\end{bmatrix} $$ now traspose of $a_1$ is given by $$ a_1^T = \\begin{bmatrix} x_1 & x_2 \\end{bmatrix} $$"
   ]
  },
  {
   "cell_type": "code",
   "execution_count": 7,
   "metadata": {},
   "outputs": [
    {
     "data": {
      "text/plain": [
       "array([[1, 2]])"
      ]
     },
     "execution_count": 7,
     "metadata": {},
     "output_type": "execute_result"
    }
   ],
   "source": [
    "#Using numpy we can get transpose by just a_1.T\n",
    "#Now we have a_1 has a column vector \n",
    "#a_1.T gives a row vector\n",
    "a_1.T"
   ]
  },
  {
   "cell_type": "markdown",
   "metadata": {},
   "source": [
    "## Dot product\n",
    "If a vector is operated by dot product on the another vector it returns a scalar. It has the following form $$ a = a_1 * a_2^T $$ which can be written as $$ a = \\begin{bmatrix} x_1 & x_2 \\end{bmatrix} \\begin{bmatrix} x_1 \\\\ x_2 \\end{bmatrix} $$ after evaluating it returns a scalar $$ a = x_1*x_2  + y_1*y_2 $$"
   ]
  },
  {
   "cell_type": "code",
   "execution_count": 8,
   "metadata": {},
   "outputs": [
    {
     "data": {
      "text/plain": [
       "array([[3, 4],\n",
       "       [6, 8]])"
      ]
     },
     "execution_count": 8,
     "metadata": {},
     "output_type": "execute_result"
    }
   ],
   "source": [
    "#Using numpy np.dot we can do this\n",
    "a = np.dot(a_1,a_2.T)\n",
    "a"
   ]
  },
  {
   "cell_type": "code",
   "execution_count": null,
   "metadata": {},
   "outputs": [],
   "source": []
  }
 ],
 "metadata": {
  "kernelspec": {
   "display_name": "Python 3",
   "language": "python",
   "name": "python3"
  },
  "language_info": {
   "codemirror_mode": {
    "name": "ipython",
    "version": 3
   },
   "file_extension": ".py",
   "mimetype": "text/x-python",
   "name": "python",
   "nbconvert_exporter": "python",
   "pygments_lexer": "ipython3",
   "version": "3.7.5"
  }
 },
 "nbformat": 4,
 "nbformat_minor": 2
}
