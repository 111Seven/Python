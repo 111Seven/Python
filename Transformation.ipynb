{
 "cells": [
  {
   "cell_type": "markdown",
   "metadata": {},
   "source": [
    "# Transformation matrices\n",
    "\n",
    "### A tutorial on different transformation matrix from a computational scientist point of view"
   ]
  },
  {
   "cell_type": "code",
   "execution_count": 1,
   "metadata": {},
   "outputs": [],
   "source": [
    "#importing necessary modules\n",
    "import numpy as np\n",
    "import pandas as pd\n",
    "import seaborn as sns\n",
    "import matplotlib.pyplot as plt\n",
    "%matplotlib inline"
   ]
  },
  {
   "cell_type": "code",
   "execution_count": 2,
   "metadata": {},
   "outputs": [],
   "source": [
    "#Define x and y coordinates of entire reference domain\n",
    "x_cor = np.linspace(1,10,20)\n",
    "y_cor = np.linspace(1,10,20)"
   ]
  },
  {
   "cell_type": "markdown",
   "metadata": {},
   "source": [
    "## Define H\n",
    " Define any shape with which you would like to play...:) "
   ]
  },
  {
   "cell_type": "code",
   "execution_count": 3,
   "metadata": {},
   "outputs": [],
   "source": [
    "x = []\n",
    "#Finding boundaries of the reference domain\n",
    "min_x_cor = np.min(x_cor)\n",
    "max_x_cor = np.max(x_cor)\n",
    "min_y_cor = np.min(y_cor)\n",
    "max_y_cor = np.max(y_cor)\n",
    "\n",
    "#Iterative loop with conditional selection of required points in the domain\n",
    "for i in range(len(x_cor)):\n",
    "    for j in range(len(y_cor)):\n",
    "        if (x_cor[i] < min_x_cor+2 or x_cor[i] > max_x_cor-2) or (y_cor[j] > min_y_cor+3 and y_cor[j] < max_y_cor-3):\n",
    "            x.append([x_cor[i],y_cor[j]])    "
   ]
  },
  {
   "cell_type": "code",
   "execution_count": 4,
   "metadata": {},
   "outputs": [
    {
     "data": {
      "text/plain": [
       "<matplotlib.collections.PathCollection at 0x238be277548>"
      ]
     },
     "execution_count": 4,
     "metadata": {},
     "output_type": "execute_result"
    },
    {
     "data": {
      "image/png": "[encoded data removed]",
      "text/plain": [
       "<Figure size 432x288 with 1 Axes>"
      ]
     },
     "metadata": {
      "needs_background": "light"
     },
     "output_type": "display_data"
    }
   ],
   "source": [
    "#Plotting the reference configuration of object\n",
    "x = np.array(x)\n",
    "plt.scatter(x[:,0],x[:,1])"
   ]
  },
  {
   "cell_type": "markdown",
   "metadata": {},
   "source": [
    "## Linear transformation\n",
    "\n",
    "Define a matrix that can move our H by some distance"
   ]
  },
  {
   "cell_type": "code",
   "execution_count": 5,
   "metadata": {},
   "outputs": [
    {
     "data": {
      "text/plain": [
       "array([[5, 0]])"
      ]
     },
     "execution_count": 5,
     "metadata": {},
     "output_type": "execute_result"
    }
   ],
   "source": [
    "#Let's define transformation matrix\n",
    "#Our matrix should move each point in x by 5 units\n",
    "move = np.array([5,0])\n",
    "move = move.reshape(1,-1) #reshape matrix to desired shape\n",
    "move"
   ]
  },
  {
   "cell_type": "code",
   "execution_count": 6,
   "metadata": {},
   "outputs": [
    {
     "name": "stdout",
     "output_type": "stream",
     "text": [
      "shape of moving matrix: (1, 2)\n",
      "shape of reference configuration matrix: (260, 2)\n"
     ]
    }
   ],
   "source": [
    "#Now let's check the dimensions of our matrix\n",
    "print(\"shape of moving matrix: {}\".format(move.shape))\n",
    "print(\"shape of reference configuration matrix: {}\".format(x.shape))"
   ]
  },
  {
   "cell_type": "code",
   "execution_count": 7,
   "metadata": {},
   "outputs": [],
   "source": [
    "#Finally let's move the matrix\n",
    "#we will explore the power of numpy's broadcasting capabilities\n",
    "x_move  = x + move"
   ]
  },
  {
   "cell_type": "code",
   "execution_count": 8,
   "metadata": {},
   "outputs": [
    {
     "data": {
      "text/plain": [
       "<matplotlib.collections.PathCollection at 0x238bf309108>"
      ]
     },
     "execution_count": 8,
     "metadata": {},
     "output_type": "execute_result"
    },
    {
     "data": {
      "image/png": "[encoded data removed]",
      "text/plain": [
       "<Figure size 432x288 with 1 Axes>"
      ]
     },
     "metadata": {
      "needs_background": "light"
     },
     "output_type": "display_data"
    }
   ],
   "source": [
    "#Now let's plot the shapes\n",
    "plt.scatter(x[:,0],x[:,1], color = \"k\")\n",
    "plt.scatter(x_move[:,0],x_move[:,1], color = \"b\")"
   ]
  },
  {
   "cell_type": "markdown",
   "metadata": {},
   "source": [
    "## Stretching matrix\n",
    "\n",
    "Matrix that can stretch the given reference configuration"
   ]
  },
  {
   "cell_type": "code",
   "execution_count": 9,
   "metadata": {},
   "outputs": [
    {
     "data": {
      "text/plain": [
       "array([[1.5, 0. ],\n",
       "       [0. , 1. ]])"
      ]
     },
     "execution_count": 9,
     "metadata": {},
     "output_type": "execute_result"
    }
   ],
   "source": [
    "#lets define a stretching matrix\n",
    "#Our matrix should stretch H in x-direction by about 50%\n",
    "#Think that you are applying longitudinal strain\n",
    "stretch = np.array([[1.5,0],[0,1]])\n",
    "stretch"
   ]
  },
  {
   "cell_type": "code",
   "execution_count": 10,
   "metadata": {},
   "outputs": [
    {
     "name": "stdout",
     "output_type": "stream",
     "text": [
      "shape of stretch matrix: (2, 2)\n",
      "shape of reference configuration (H) matrix: (260, 2)\n"
     ]
    }
   ],
   "source": [
    "print(\"shape of stretch matrix: {}\".format(stretch.shape))\n",
    "print(\"shape of reference configuration (H) matrix: {}\".format(x.shape))"
   ]
  },
  {
   "cell_type": "code",
   "execution_count": 11,
   "metadata": {},
   "outputs": [],
   "source": [
    "#Now we have all the ingredients, let's stretch\n",
    "#x_stretch = x*stretch (each point should be multiplied by stretch matrix)\n",
    "x_stretch = np.dot(x,stretch) #Matrix multiplication"
   ]
  },
  {
   "cell_type": "code",
   "execution_count": 12,
   "metadata": {},
   "outputs": [
    {
     "name": "stdout",
     "output_type": "stream",
     "text": [
      "shape of reference configuration (H) matrix: (260, 2)\n",
      "shape of stretched configuration (H) matrix: (260, 2)\n"
     ]
    }
   ],
   "source": [
    "print(\"shape of reference configuration (H) matrix: {}\".format(x.shape))\n",
    "print(\"shape of stretched configuration (H) matrix: {}\".format(x_stretch.shape))"
   ]
  },
  {
   "cell_type": "code",
   "execution_count": 13,
   "metadata": {},
   "outputs": [
    {
     "data": {
      "text/plain": [
       "<matplotlib.collections.PathCollection at 0x238bf37c948>"
      ]
     },
     "execution_count": 13,
     "metadata": {},
     "output_type": "execute_result"
    },
    {
     "data": {
      "image/png": "[encoded data removed]",
      "text/plain": [
       "<Figure size 432x288 with 1 Axes>"
      ]
     },
     "metadata": {
      "needs_background": "light"
     },
     "output_type": "display_data"
    }
   ],
   "source": [
    "#plot the reference configuration and stretched configuration\n",
    "plt.scatter(x[:,0],x[:,1],color=\"k\")\n",
    "plt.scatter(x_stretch[:,0],x_stretch[:,1],color=\"b\")"
   ]
  },
  {
   "cell_type": "markdown",
   "metadata": {},
   "source": [
    "## Rotation matrix\n",
    "\n",
    "Matrix that can rotate the reference configuration by some angle"
   ]
  },
  {
   "cell_type": "code",
   "execution_count": 14,
   "metadata": {},
   "outputs": [
    {
     "data": {
      "text/plain": [
       "array([[ 0.8660254,  0.5      ],\n",
       "       [-0.5      ,  0.8660254]])"
      ]
     },
     "execution_count": 14,
     "metadata": {},
     "output_type": "execute_result"
    }
   ],
   "source": [
    "#Define matrix that can rotate the reference configuration\n",
    "theta = 30*np.pi/180  #Angle to rotate\n",
    "rotate = np.array([[np.cos(theta),np.sin(theta)],[-np.sin(theta),np.cos(theta)]])\n",
    "rotate"
   ]
  },
  {
   "cell_type": "code",
   "execution_count": 15,
   "metadata": {},
   "outputs": [],
   "source": [
    "#Now we have all the ingredients, let's rotate the matrix\n",
    "#x_rotate = x*stretch (each point should be multiplied by stretch matrix)\n",
    "x_rotate = np.dot(x,rotate) #Matrix multiplication"
   ]
  },
  {
   "cell_type": "code",
   "execution_count": 16,
   "metadata": {},
   "outputs": [
    {
     "data": {
      "text/plain": [
       "<matplotlib.collections.PathCollection at 0x238bf3e9088>"
      ]
     },
     "execution_count": 16,
     "metadata": {},
     "output_type": "execute_result"
    },
    {
     "data": {
      "image/png": "[encoded data removed]",
      "text/plain": [
       "<Figure size 432x288 with 1 Axes>"
      ]
     },
     "metadata": {
      "needs_background": "light"
     },
     "output_type": "display_data"
    }
   ],
   "source": [
    "#plotting the reference configuration and rotated matrix\n",
    "plt.scatter(x[:,0],x[:,1],color=\"k\")\n",
    "plt.scatter(x_rotate[:,0],x_rotate[:,1],color=\"b\")"
   ]
  },
  {
   "cell_type": "markdown",
   "metadata": {},
   "source": [
    "## Shear matrix\n",
    "\n",
    "Matrix that can shear reference configuration by some angle"
   ]
  },
  {
   "cell_type": "code",
   "execution_count": 17,
   "metadata": {},
   "outputs": [
    {
     "data": {
      "text/plain": [
       "array([[1. , 0. ],\n",
       "       [0.5, 1. ]])"
      ]
     },
     "execution_count": 17,
     "metadata": {},
     "output_type": "execute_result"
    }
   ],
   "source": [
    "#Let's define the shear matrix\n",
    "shear = np.array([[1,0],[0.5,1]])\n",
    "shear"
   ]
  },
  {
   "cell_type": "code",
   "execution_count": 18,
   "metadata": {},
   "outputs": [],
   "source": [
    "#Now we have all the ingredients, let's shear the matrix\n",
    "#x_shear = x*shear (each point should be multiplied by stretch matrix)\n",
    "x_shear = np.dot(x,shear) #Matrix multiplication"
   ]
  },
  {
   "cell_type": "code",
   "execution_count": 19,
   "metadata": {},
   "outputs": [
    {
     "data": {
      "text/plain": [
       "<matplotlib.collections.PathCollection at 0x238bf459808>"
      ]
     },
     "execution_count": 19,
     "metadata": {},
     "output_type": "execute_result"
    },
    {
     "data": {
      "image/png": "[encoded data removed]",
      "text/plain": [
       "<Figure size 432x288 with 1 Axes>"
      ]
     },
     "metadata": {
      "needs_background": "light"
     },
     "output_type": "display_data"
    }
   ],
   "source": [
    "#Plot the sheared configuration and reference configuration\n",
    "plt.scatter(x[:,0],x[:,1],color=\"k\")\n",
    "plt.scatter(x_shear[:,0],x_shear[:,1],color=\"b\")"
   ]
  },
  {
   "cell_type": "markdown",
   "metadata": {},
   "source": [
    "### Will keep improving this notebook to include other transformation matrices <br>\n",
    "## Thanks you..!"
   ]
  },
  {
   "cell_type": "code",
   "execution_count": null,
   "metadata": {},
   "outputs": [],
   "source": []
  }
 ],
 "metadata": {
  "kernelspec": {
   "display_name": "Python 3",
   "language": "python",
   "name": "python3"
  },
  "language_info": {
   "codemirror_mode": {
    "name": "ipython",
    "version": 3
   },
   "file_extension": ".py",
   "mimetype": "text/x-python",
   "name": "python",
   "nbconvert_exporter": "python",
   "pygments_lexer": "ipython3",
   "version": "3.7.5"
  }
 },
 "nbformat": 4,
 "nbformat_minor": 2
}
